{
  "nbformat": 4,
  "nbformat_minor": 0,
  "metadata": {
    "colab": {
      "name": "A0 - Mon premier colab.ipynb",
      "provenance": [],
      "collapsed_sections": []
    },
    "kernelspec": {
      "name": "python383jvsc74a57bd04e2d2fe2120fad4f99b7d6586c2748600bf7aeeaed786bb6e6a64618a0da6d39",
      "display_name": "Python 3.8.3 64-bit ('base': conda)"
    },
    "language_info": {
      "codemirror_mode": {
        "name": "ipython",
        "version": 3
      },
      "file_extension": ".py",
      "mimetype": "text/x-python",
      "name": "python",
      "nbconvert_exporter": "python",
      "pygments_lexer": "ipython3",
      "version": "3.8.3"
    }
  },
  "cells": [
    {
      "cell_type": "markdown",
      "metadata": {
        "id": "AihyuLW5Fa_N"
      },
      "source": [
        "# Objectif \n",
        "\n",
        "> Se familiariser avec l'environnement Colab de la suite Google. \n",
        "\n"
      ]
    },
    {
      "cell_type": "markdown",
      "metadata": {
        "id": "MAVH4rX2GBA-"
      },
      "source": [
        "---\n",
        "## Activité 1\n",
        "* Enregistrer une copie de ce fichier dans votre [Google Drive](drive.google.com) ;\n",
        "* Exporter le script au format .py ou au format .ipynb. \n",
        "---"
      ]
    },
    {
      "cell_type": "markdown",
      "metadata": {
        "id": "6_5R-HNxGZ3T"
      },
      "source": [
        "---\n",
        "## Activité 2\n",
        " \n",
        " \n",
        "Exécuter les deux cellules suivantes dans votre copie du fichier Colab.\n",
        "\n",
        "---\n",
        "\n",
        "\n",
        "\n",
        " "
      ]
    },
    {
      "cell_type": "code",
      "metadata": {
        "id": "Ns3_Ge4bGkdu"
      },
      "source": [
        "a = 2                                # création d'une variable a à laquelle est associée la valeur 2\n",
        "b = 3                                # création d'une variable b à laquelle est associée la valeur 3\n",
        "c = a * b - a                        # création d'une variable c\n",
        "print('La valeur de c est c =',c)    # affichage de texte et de la valeur de c"
      ],
      "execution_count": 1,
      "outputs": [
        {
          "output_type": "stream",
          "name": "stdout",
          "text": [
            "La valeur de c est c = 4\n"
          ]
        }
      ]
    },
    {
      "cell_type": "markdown",
      "metadata": {
        "id": "KmmaBYlvHMd_"
      },
      "source": [
        "Pour travailler, on importe quasiment systématiquement les bibliothèques suivantes avec des alias pour simplifier leur usage :\n",
        "\n",
        "- le module `numpy` permet de faire un grand nombre de calculs (alias `np`).\n",
        "- le module `matplotlib.pyplot` sert à tracer des graphiques (alias `plt`).\n",
        "- le sous-module `random` \n",
        "de numpy permet de générer des nombres aléatoires (alias `rd`)."
      ]
    },
    {
      "cell_type": "code",
      "metadata": {
        "id": "q1G2OsW9zvF_"
      },
      "source": [
        "# Importation des bibliothèques les plus courantes avec les alias associés\n",
        "\n",
        "import numpy as np                          # pour la manipulation de tableaux de nombres\n",
        "import matplotlib.pyplot as plt             # pour les représentations graphiques\n",
        "import numpy.random as rd                   # pour les tirages aléatoires"
      ],
      "execution_count": 2,
      "outputs": []
    },
    {
      "cell_type": "markdown",
      "metadata": {
        "id": "NrNGwu0TG_af"
      },
      "source": [
        "---\n",
        "## Activité 3\n",
        "\n",
        "Tracé de points expérimentaux : le code de la cellule suivante permet de tracer $y$ en fonction de $x$.\n",
        " \n",
        "\\begin{array}{|c|c|c|c|c|c|}\n",
        "\\hline x & 1 & 2 & 3 & 4 & 5\\\\\n",
        "\\hline y & 0.15 & 0.30 & 0.45 & 0.60 & 0.75 \\\\\n",
        "\\hline\n",
        "\\end{array}\n",
        "\n",
        "Modifiez-le pour que soient représentés les points $\\left(x^2,1/y\\right)$  sous forme de croix rouges, puis exécuter la cellule.\n",
        "\n",
        "*Indice : 'bo' = bleu 'b', cercles 'o'*\n",
        "\n",
        "---\n"
      ]
    },
    {
      "cell_type": "code",
      "metadata": {
        "id": "TIPacrEzd7Mz",
        "colab": {
          "base_uri": "https://localhost:8080/",
          "height": 297
        },
        "outputId": "98d473eb-0268-4915-eac1-a56620eee61c"
      },
      "source": [
        "# Entrée des données expérimentales grâce à des numpy.array\n",
        "\n",
        "x = np.array([1, 2, 3, 4, 5])                             # valeurs de x (séparées par des virgules)\n",
        "y = np.array([0.15, 0.30, 0.45, 0.60, 0.75])              # valeurs de y associées\n",
        "\n",
        "# Tracé de y en fonction de x\n",
        "\n",
        "plt.plot(x, y, 'bo')                                      # Tracé de y en fonction de x avec des cercles bleus\n",
        "plt.xlabel('x')                                           # Légene de l'axe des abscisses\n",
        "plt.ylabel('y')                                           # Légende de l'axe des ordonnées\n",
        "plt.title('Évolution de y en fonction de x')              # Ajout du titre\n",
        "plt.show()"
      ],
      "execution_count": null,
      "outputs": [
        {
          "output_type": "display_data",
          "data": {
            "image/png": "[encoded data removed]",
            "text/plain": [
              "<Figure size 432x288 with 1 Axes>"
            ]
          },
          "metadata": {
            "tags": [],
            "needs_background": "light"
          }
        }
      ]
    },
    {
      "cell_type": "markdown",
      "metadata": {
        "id": "H3hYox-iLFfw"
      },
      "source": [
        "---\n",
        "## Activité 4\n",
        " \n",
        "Écrire une cellule qui calcule un numpy array contenant les valeurs de la grandeur $z=2x-y^2+\\ln{x}$, puis en affiche la valeur.\n",
        "\n",
        "*Indice : avec `numpy`, la fonction logarithme népérien s'écrit `np.log(...)`. Comme les autres opérateurs mathématiques, elle agit simultanément sur tous les éléments de l'array.*\n",
        "\n",
        "---"
      ]
    },
    {
      "source": [
        "z=2*x-y**2+np.log(x)\n",
        "print(z)"
      ],
      "cell_type": "code",
      "metadata": {
        "id": "dlUiCqeiLoJ3"
      },
      "execution_count": 5,
      "outputs": [
        {
          "output_type": "stream",
          "name": "stdout",
          "text": [
            "[ 1.9775      4.60314718  6.89611229  9.02629436 11.04693791]\n"
          ]
        }
      ]
    },
    {
      "cell_type": "markdown",
      "metadata": {
        "id": "T_3dezjjuRJX"
      },
      "source": [
        "---\n",
        "\n",
        "## Activité 5\n",
        "\n",
        "Ajouter une cellule de texte après celle-ci, puis la compléter par un texte de votre choix, en utilisant la syntaxe Markdown.\n",
        "\n",
        "*Aide :* https://bit.ly/3a5u9Ja\n",
        "\n",
        "\n",
        "\n",
        "\n",
        "\n",
        "\n",
        "\n",
        "---"
      ]
    },
    {
      "source": [
        "## essai\n",
        "On veut calculer l'intégrale de $f$ entre 0 et 1 :\n",
        "$$\\int_0^1f(x)\\,dx$$"
      ],
      "cell_type": "markdown",
      "metadata": {}
    },
    {
      "source": [],
      "cell_type": "markdown",
      "metadata": {
        "id": "5Pe-hZRwnI6q"
      }
    }
  ]
}